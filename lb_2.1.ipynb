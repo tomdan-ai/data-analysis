{
 "cells": [
  {
   "cell_type": "code",
   "execution_count": 1,
   "id": "58a5812d",
   "metadata": {},
   "outputs": [],
   "source": [
    "# SECTION 1: Common Data Sources\n",
    "\n",
    "common_data_sources = [\n",
    "    {\"S/N\": 1, \"Source\": \"CSV Files\", \"Descriptions\": \"Comma-separated values, often exported from Excel or databases\"},\n",
    "    {\"S/N\": 2, \"Source\": \"Excel Files\", \"Descriptions\": \"XLS/XLSX format used in spreadsheets\"},\n",
    "    {\"S/N\": 3, \"Source\": \"Databases\", \"Descriptions\": \"SQL (MySQL, PostgreSQL, SQLite), NoSQL (MongoDB)\"},\n",
    "    {\"S/N\": 4, \"Source\": \"Web APIs\", \"Descriptions\": \"JSON/XML data from REST APIs\"},\n",
    "    {\"S/N\": 5, \"Source\": \"Big Data Systems\", \"Descriptions\": \"HDFS, Apache Spark, AWS S3\"},\n",
    "    {\"S/N\": 6, \"Source\": \"HTML Tables\", \"Descriptions\": \"Extracted from web pages via scraping\"},\n",
    "]\n",
    "\n",
    "# SECTION 2: Common Data Formats\n",
    "\n",
    "common_data_formats = [\n",
    "    {\"S/N\": 1, \"FORMAT\": \".csv\", \"TOOL/METHOD\": \"pd.read_csv()\", \"NOTES\": \"Most common flat file\"},\n",
    "    {\"S/N\": 2, \"FORMAT\": \".xlsx\", \"TOOL/METHOD\": \"pd.read_excel()\", \"NOTES\": \"Needs openpyxl or xlrd\"},\n",
    "    {\"S/N\": 3, \"FORMAT\": \".json\", \"TOOL/METHOD\": \"pd.read_json()\", \"NOTES\": \"Hierarchical, human-readable\"},\n",
    "    {\"S/N\": 4, \"FORMAT\": \".sql\", \"TOOL/METHOD\": \"pd.read_sql()\", \"NOTES\": \"Via database connectors\"},\n",
    "    {\"S/N\": 5, \"FORMAT\": \".html\", \"TOOL/METHOD\": \"pd.read_html()\", \"NOTES\": \"Parses <table> tags\"},\n",
    "    {\"S/N\": 6, \"FORMAT\": \".parquet\", \"TOOL/METHOD\": \"pd.read_parquet()\", \"NOTES\": \"Efficient for large data (columnar storage)\"},\n",
    "]"
   ]
  }
 ],
 "metadata": {
  "kernelspec": {
   "display_name": "Python 3",
   "language": "python",
   "name": "python3"
  },
  "language_info": {
   "codemirror_mode": {
    "name": "ipython",
    "version": 3
   },
   "file_extension": ".py",
   "mimetype": "text/x-python",
   "name": "python",
   "nbconvert_exporter": "python",
   "pygments_lexer": "ipython3",
   "version": "3.10.12"
  }
 },
 "nbformat": 4,
 "nbformat_minor": 5
}
