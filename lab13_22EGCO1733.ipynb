{
 "cells": [
  {
   "cell_type": "code",
   "execution_count": 1,
   "id": "34fc27b5",
   "metadata": {},
   "outputs": [
    {
     "name": "stdout",
     "output_type": "stream",
     "text": [
      "Categories: ['Low', 'High', 'High', 'Low', 'High']\n",
      "Counts: {'High': 3, 'Low': 2}\n",
      "Outliers (>2°C from threshold): [27.3]\n",
      "Unique Categories: {'Toys', 'Electronics', 'Books', 'Clothing'}\n",
      "Count of Unique Categories: 4\n",
      "Found Electronics: True\n",
      "Totals: {'C001': 150.0, 'C002': 200.0, 'C003': 30.0}\n",
      "High Spenders (>100): ['C001', 'C002']\n",
      "Sorted Totals: {'C002': 200.0, 'C001': 150.0, 'C003': 30.0}\n"
     ]
    }
   ],
   "source": [
    "# LAB 1.3 - Control Flow & Functions\n",
    "\n",
    "# SCENARIO I (Categorizing Sensor Readings)\n",
    "sensor_readings = [23.5, 25.2, 26.8, 24.1, 27.3]\n",
    "threshold = 25.0\n",
    "\n",
    "categories = []\n",
    "counts = {\"High\": 0, \"Low\": 0}\n",
    "outliers = []\n",
    "\n",
    "for reading in sensor_readings:\n",
    "    if reading >= threshold:\n",
    "        categories.append(\"High\")\n",
    "        counts[\"High\"] += 1\n",
    "    else:\n",
    "        categories.append(\"Low\")\n",
    "        counts[\"Low\"] += 1\n",
    "    if abs(reading - threshold) > 2.0:\n",
    "        outliers.append(reading)\n",
    "\n",
    "print(\"Categories:\", categories)\n",
    "print(\"Counts:\", counts)\n",
    "print(\"Outliers (>2°C from threshold):\", outliers)\n",
    "\n",
    "# SCENARIO II (Counting Unique Categories with While Loop)\n",
    "categories = [\"Electronics\", \"Clothing\", \"Electronics\", \"Books\", \"Toys\"]\n",
    "unique_categories = set(categories)\n",
    "target_category = \"Electronics\"\n",
    "found_target = False\n",
    "count = 0\n",
    "\n",
    "category_list = list(unique_categories)\n",
    "index = 0\n",
    "while index < len(category_list):\n",
    "    count += 1\n",
    "    if category_list[index] == target_category:\n",
    "        found_target = True\n",
    "    index += 1\n",
    "\n",
    "print(\"Unique Categories:\", unique_categories)\n",
    "print(\"Count of Unique Categories:\", count)\n",
    "print(\"Found Electronics:\", found_target)\n",
    "\n",
    "# SCENARIO III (Processing Customer Purchase Data with a Function)\n",
    "def process_purchases(customers, spending_threshold=100.0):\n",
    "    \"\"\"Calculate total purchases and identify high spenders.\"\"\"\n",
    "    totals = {}\n",
    "    high_spenders = []\n",
    "    for customer_id, purchases in customers.items():\n",
    "        total = sum(purchases) if purchases else 0\n",
    "        totals[customer_id] = total\n",
    "        if total > spending_threshold:\n",
    "            high_spenders.append(customer_id)\n",
    "    sorted_totals = {k: totals[k] for k in sorted(totals, key=totals.get, reverse=True)}\n",
    "    return totals, high_spenders, sorted_totals\n",
    "\n",
    "customers = {\n",
    "    \"C001\": [50.0, 75.0, 25.0],\n",
    "    \"C002\": [120.0, 80.0],\n",
    "    \"C003\": [30.0]\n",
    "}\n",
    "\n",
    "totals, high_spenders, sorted_totals = process_purchases(customers)\n",
    "print(\"Totals:\", totals)\n",
    "print(\"High Spenders (>100):\", high_spenders)\n",
    "print(\"Sorted Totals:\", sorted_totals)"
   ]
  }
 ],
 "metadata": {
  "kernelspec": {
   "display_name": "Python 3",
   "language": "python",
   "name": "python3"
  },
  "language_info": {
   "codemirror_mode": {
    "name": "ipython",
    "version": 3
   },
   "file_extension": ".py",
   "mimetype": "text/x-python",
   "name": "python",
   "nbconvert_exporter": "python",
   "pygments_lexer": "ipython3",
   "version": "3.10.12"
  }
 },
 "nbformat": 4,
 "nbformat_minor": 5
}
