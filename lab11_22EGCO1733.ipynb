{
 "cells": [
  {
   "cell_type": "markdown",
   "id": "9fc603e2",
   "metadata": {},
   "source": [
    "# Name: UDOH, TOM DANIEL\n",
    "# Registration Number: 22/EG/CO/1733"
   ]
  },
  {
   "cell_type": "code",
   "execution_count": null,
   "id": "b4277c15",
   "metadata": {
    "vscode": {
     "languageId": "plaintext"
    }
   },
   "outputs": [],
   "source": []
  }
 ],
 "metadata": {
  "language_info": {
   "name": "python"
  }
 },
 "nbformat": 4,
 "nbformat_minor": 5
}
