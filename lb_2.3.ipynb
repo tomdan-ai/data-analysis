{
 "cells": [
  {
   "cell_type": "code",
   "execution_count": null,
   "id": "eaf8aac8",
   "metadata": {},
   "outputs": [],
   "source": [
    "import pandas as pd\n",
    "\n"
   ]
  }
 ],
 "metadata": {
  "language_info": {
   "name": "python"
  }
 },
 "nbformat": 4,
 "nbformat_minor": 5
}
