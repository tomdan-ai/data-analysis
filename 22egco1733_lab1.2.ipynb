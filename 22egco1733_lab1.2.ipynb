{
 "cells": [
  {
   "cell_type": "code",
   "execution_count": null,
   "id": "6707e0e9",
   "metadata": {},
   "outputs": [],
   "source": [
    "sensor_reading = [23.5, 25.2, 26.8, 24.1, 27.3]"
   ]
  }
 ],
 "metadata": {
  "language_info": {
   "name": "python"
  }
 },
 "nbformat": 4,
 "nbformat_minor": 5
}
