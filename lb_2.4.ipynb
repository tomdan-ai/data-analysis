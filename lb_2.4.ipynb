{
 "cells": [
  {
   "cell_type": "code",
   "execution_count": null,
   "id": "4c9ccfbf",
   "metadata": {},
   "outputs": [],
   "source": [
    "import pandas as pd\n",
    "\n",
    "# STEP 1: Save a DataFrame to a CSV file\n",
    "df.to_csv(\"New_Social_Network_Ads_Data.csv\", index=False)\n",
    "\n",
    "# STEP 2: Save a DataFrame to Excel\n",
    "df.to_excel(\n",
    "    \"New_Social_Network_Ads_Data.xlsx\",\n",
    "    sheet_name=\"AdsData\",\n",
    "    index=False\n",
    ")\n",
    "\n",
    "# STEP 3: Write to multiple excel sheets\n",
    "with pd.ExcelWriter(\"Multiple_Social_Network_Ads_Data.xlsx\") as writer:\n",
    "    df.to_excel(writer, sheet_name=\"Sheet1\", index=False)\n",
    "    df.to_excel(writer, sheet_name=\"Sheet2\", index=False)\n",
    "\n",
    "# STEP 4: Save a DataFrame to JSON\n",
    "df.to_json(\"New_Social_Network_Ads_Data.json\", orient=\"records\", lines=True)\n",
    "\n",
    "# STEP 5: Save a DataFrame to CSV, including and excluding the index.\n",
    "df.to_csv(\"Indexed_Social_Network_Ads_Data.csv\", index=True)   # Includes index\n",
    "df.to_csv(\"NoIndex_Social_Network_Ads_Data.csv\", index=False)  # Excludes index\n",
    "\n",
    "# STEP 6: Saving Intermediate Outputs\n",
    "df_cleaned = df.drop_duplicates()\n",
    "df_cleaned.to_csv(\"Cleaned_Social_Network_Ads_Data.csv\", index=False)\n",
    "df_transformed = df_cleaned[df_cleaned['Age'] > 40]\n",
    "df_transformed.to_excel(\"Filtered_Social_Network_Ads_Data.xlsx\", index=False)"
   ]
  }
 ],
 "metadata": {
  "language_info": {
   "name": "python"
  }
 },
 "nbformat": 4,
 "nbformat_minor": 5
}
