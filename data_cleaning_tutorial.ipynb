{
 "cells": [
  {
   "cell_type": "markdown",
   "id": "52b48535",
   "metadata": {},
   "source": [
    "# 🧼 Data Cleaning, Preparation, and Wrangling Tutorial\n",
    "Welcome to this hands-on tutorial where we clean and wrangle a messy dataset using Python and pandas.\n",
    "\n",
    "**Objectives:**\n",
    "- Load messy raw data\n",
    "- Clean column names and entries\n",
    "- Handle missing data\n",
    "- Correct data types\n",
    "- Standardize formats\n",
    "- Remove duplicates\n",
    "- Save cleaned dataset"
   ]
  },
  {
   "cell_type": "code",
   "execution_count": null,
   "id": "b4438577",
   "metadata": {},
   "outputs": [],
   "source": [
    "import pandas as pd\n",
    "import numpy as np"
   ]
  },
  {
   "cell_type": "code",
   "execution_count": null,
   "id": "f25aa9d7",
   "metadata": {},
   "outputs": [],
   "source": [
    "df = pd.read_csv('raw_data.csv')\n",
    "print('Original Data:')\n",
    "df.head()"
   ]
  },
  {
   "cell_type": "markdown",
   "id": "8e3f86a1",
   "metadata": {},
   "source": [
    "### Step 1: Clean Column Names"
   ]
  },
  {
   "cell_type": "code",
   "execution_count": null,
   "id": "7ee84dae",
   "metadata": {},
   "outputs": [],
   "source": [
    "df.columns = df.columns.str.strip().str.replace(' ', '_').str.lower()\n",
    "df.columns"
   ]
  },
  {
   "cell_type": "markdown",
   "id": "38b548e2",
   "metadata": {},
   "source": [
    "### Step 2: Handle Missing Values"
   ]
  },
  {
   "cell_type": "code",
   "execution_count": null,
   "id": "39d76770",
   "metadata": {},
   "outputs": [],
   "source": [
    "print(df.isnull().sum())\n",
    "\n",
    "# Convert 'age' to numeric\n",
    "df['age'] = pd.to_numeric(df['age'], errors='coerce')\n",
    "df['age'].fillna(df['age'].median(), inplace=True)"
   ]
  },
  {
   "cell_type": "code",
   "execution_count": null,
   "id": "b95f3478",
   "metadata": {},
   "outputs": [],
   "source": [
    "df['email'].replace({'.': np.nan}, inplace=True)\n",
    "df.dropna(subset=['email'], inplace=True)"
   ]
  },
  {
   "cell_type": "markdown",
   "id": "2e16d72b",
   "metadata": {},
   "source": [
    "### Step 3: Fix Date Formats"
   ]
  },
  {
   "cell_type": "code",
   "execution_count": null,
   "id": "4078389a",
   "metadata": {},
   "outputs": [],
   "source": [
    "df['joindate'] = pd.to_datetime(df['joindate'], errors='coerce')"
   ]
  },
  {
   "cell_type": "markdown",
   "id": "096e4b04",
   "metadata": {},
   "source": [
    "### Step 4: Clean Salary Column"
   ]
  },
  {
   "cell_type": "code",
   "execution_count": null,
   "id": "ccec699a",
   "metadata": {},
   "outputs": [],
   "source": [
    "df['salary_($)'] = pd.to_numeric(df['salary_($)'], errors='coerce')\n",
    "df['salary_($)'].fillna(df['salary_($)'].median(), inplace=True)"
   ]
  },
  {
   "cell_type": "markdown",
   "id": "43d186ce",
   "metadata": {},
   "source": [
    "### Step 5: Standardize Text Columns"
   ]
  },
  {
   "cell_type": "code",
   "execution_count": null,
   "id": "7d8452ed",
   "metadata": {},
   "outputs": [],
   "source": [
    "df['name'] = df['name'].str.title().str.strip()\n",
    "df['gender'] = df['gender'].str.title().str.strip()\n",
    "df['department'] = df['department'].str.upper().str.strip()\n",
    "df['employee_status'] = df['employee_status'].str.upper().str.strip()"
   ]
  },
  {
   "cell_type": "markdown",
   "id": "772b9bb0",
   "metadata": {},
   "source": [
    "### Step 6: Remove Duplicates"
   ]
  },
  {
   "cell_type": "code",
   "execution_count": null,
   "id": "e8e327d7",
   "metadata": {},
   "outputs": [],
   "source": [
    "df.drop_duplicates(subset=['name', 'email'], inplace=True)"
   ]
  },
  {
   "cell_type": "markdown",
   "id": "c7fa868c",
   "metadata": {},
   "source": [
    "### Step 7: Handle Missing Department"
   ]
  },
  {
   "cell_type": "code",
   "execution_count": null,
   "id": "dc198b42",
   "metadata": {},
   "outputs": [],
   "source": [
    "df['department'].fillna('UNKNOWN', inplace=True)"
   ]
  },
  {
   "cell_type": "markdown",
   "id": "860ee513",
   "metadata": {},
   "source": [
    "### ✅ Final Cleaned Data"
   ]
  },
  {
   "cell_type": "code",
   "execution_count": null,
   "id": "21655d23",
   "metadata": {},
   "outputs": [],
   "source": [
    "df.head()"
   ]
  },
  {
   "cell_type": "code",
   "execution_count": null,
   "id": "bfebb4a1",
   "metadata": {},
   "outputs": [],
   "source": [
    "df.to_csv('cleaned_data.csv', index=False)\n",
    "print('Cleaned data saved as cleaned_data.csv')"
   ]
  }
 ],
 "metadata": {},
 "nbformat": 4,
 "nbformat_minor": 5
}
